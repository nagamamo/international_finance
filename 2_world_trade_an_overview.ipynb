{
  "nbformat": 4,
  "nbformat_minor": 0,
  "metadata": {
    "colab": {
      "provenance": [],
      "authorship_tag": "ABX9TyOD+/XNEgMG+qeDvettLPi4",
      "include_colab_link": true
    },
    "kernelspec": {
      "name": "python3",
      "display_name": "Python 3"
    },
    "language_info": {
      "name": "python"
    }
  },
  "cells": [
    {
      "cell_type": "markdown",
      "metadata": {
        "id": "view-in-github",
        "colab_type": "text"
      },
      "source": [
        "<a href=\"https://colab.research.google.com/github/nagamamo/international_finance/blob/main/2_world_trade_an_overview.ipynb\" target=\"_parent\"><img src=\"https://colab.research.google.com/assets/colab-badge.svg\" alt=\"Open In Colab\"/></a>"
      ]
    },
    {
      "cell_type": "markdown",
      "source": [
        "2.1　世界貿易の概観"
      ],
      "metadata": {
        "id": "0rZISd-HPeLF"
      }
    },
    {
      "cell_type": "markdown",
      "source": [
        "　「第2回世界貿易の概観と重力モデル」では、国際貿易統計を用いたデータの可視化と統計分析を行います。本例では、ライブラリwbgapiを用いて世界銀行データを取得し、分析します。"
      ],
      "metadata": {
        "id": "DpXbrW_TPpB8"
      }
    },
    {
      "cell_type": "markdown",
      "source": [
        "まず、パッケージをインストールします。"
      ],
      "metadata": {
        "id": "VBKjnDyVSPth"
      }
    },
    {
      "cell_type": "code",
      "source": [
        "pip install wbgapi"
      ],
      "metadata": {
        "id": "MGom2tDKSXlL"
      },
      "execution_count": null,
      "outputs": []
    },
    {
      "cell_type": "markdown",
      "source": [
        "  　続いて、マクロ経済データの取得と分析に必要なライブラリをインポートします。今回使用するのはwbgapi、pandas_datareader、pandas、datetime、numpy、matplotlibの6種類です。"
      ],
      "metadata": {
        "id": "6tBz449cSdrO"
      }
    },
    {
      "cell_type": "code",
      "source": [
        "#[2]ライブラリの読み込み\n",
        "import wbgapi as wb #世界銀行データ取得のためのライブラリ\n",
        "import pandas_datareader as data #データ取得ライブラリ\n",
        "import pandas as pd #データセット管理のためのライブラリ\n",
        "import matplotlib.pyplot as plt #図表作成のためのライブラリ"
      ],
      "metadata": {
        "id": "uhNn6hBwSsbn"
      },
      "execution_count": 15,
      "outputs": []
    },
    {
      "cell_type": "markdown",
      "source": [
        "　世界銀行データからマクロ経済統計を取得するためには、必要なデータのコードと国・地域コードが必要になります。まず、データコードの検索方法は次の通りです。例えば、経常収支(Current Account)を検索する場合、部分一致する何かしらの単語を入力すれば関連候補が検索されます。"
      ],
      "metadata": {
        "id": "f5fRfynsSye8"
      }
    },
    {
      "cell_type": "code",
      "source": [
        "#[3]データコードの検索\n",
        "display(wb.series.info(q='current account'))"
      ],
      "metadata": {
        "id": "SvKTFXXaTEP-"
      },
      "execution_count": null,
      "outputs": []
    },
    {
      "cell_type": "markdown",
      "source": [
        "次に、国・地域コードの検索方法は次の通りです。国・地域コードの場合は全コード一覧が表示されます"
      ],
      "metadata": {
        "id": "7SyaXuk6TLxR"
      }
    },
    {
      "cell_type": "code",
      "source": [
        "\"[4]国・地域コードの検索\"\n",
        "display(wb.economy.info())"
      ],
      "metadata": {
        "id": "_jaY4n99TTc_"
      },
      "execution_count": null,
      "outputs": []
    },
    {
      "cell_type": "markdown",
      "source": [
        "　本節では、輸出、輸入データ（対GDP比）の取得手順を示します。本例では日本の輸出額、輸入額の例を示しますが、1行目を変更することで、世界190カ国いずれの国のデータの取得が可能です。"
      ],
      "metadata": {
        "id": "KbmN-2fATZLq"
      }
    },
    {
      "cell_type": "code",
      "source": [
        "#[7]輸出対GDP比(日本)データの取得\n",
        "countries = [\"JPN\"]\n",
        "indicators = {'NE.EXP.GNFS.ZS':'Exports of Goods and Services Japan'}\n",
        "df=wb.data.DataFrame(indicators,countries, time=range(1970, 2023), skipBlanks=True, columns='series')\n",
        "df.plot();\n",
        "df.describe()"
      ],
      "metadata": {
        "id": "c8EVucnYTjAa"
      },
      "execution_count": null,
      "outputs": []
    },
    {
      "cell_type": "markdown",
      "source": [
        "　続いて、日本の輸入額（対GDP比）のデータを可視化します。2010年代初頭以降、エネルギ―輸入額の増大により、輸入規模が上昇し続けていることが、近年の貿易サービス収支の悪化の一因となっています。"
      ],
      "metadata": {
        "id": "sMmYJtzvTvFC"
      }
    },
    {
      "cell_type": "code",
      "source": [
        "countries = [\"JPN\"]\n",
        "indicators = {'NE.IMP.GNFS.ZS':'Imports of Goods and Services Japan'}\n",
        "df=wb.data.DataFrame(indicators,countries, time=range(1970, 2023), skipBlanks=True, columns='series')\n",
        "df.plot();\n",
        "df.describe()"
      ],
      "metadata": {
        "id": "bewgKeRPT0Lm"
      },
      "execution_count": null,
      "outputs": []
    },
    {
      "cell_type": "markdown",
      "source": [
        "2.2　重力モデル"
      ],
      "metadata": {
        "id": "QUxCik1jRZSW"
      }
    },
    {
      "cell_type": "markdown",
      "source": [
        "　続いて教科書2章に基づき、重力モデルの可視化を分析を行います。「重力モデル」の理論的枠組みは、講義で説明した通りです。教科書ではEU加盟国と米国との貿易データを用いた図表が示されていますので、これをアジア太平洋地域に応用してみます。"
      ],
      "metadata": {
        "id": "ESJK6b80Ucs8"
      }
    },
    {
      "cell_type": "markdown",
      "source": [
        "　まず、分析に必要なライブラリをインポートします。今回使用するのはpandas、matplotlib他の4種類です。"
      ],
      "metadata": {
        "id": "6MVuZxOXVKBM"
      }
    },
    {
      "cell_type": "code",
      "source": [
        "#[1]ライブラリの読み込み\n",
        "import pandas as pd\n",
        "import matplotlib.pyplot as plt\n",
        "import csv #データ読込みのためのライブラリのインポート\n",
        "from google.colab import files"
      ],
      "metadata": {
        "id": "RzHP-UH9PV1U"
      },
      "execution_count": 1,
      "outputs": []
    },
    {
      "cell_type": "markdown",
      "source": [
        "　続いて、アジア太平洋14カ国・地域の(1)輸出（輸入）額合計、(2)対米国輸出（輸入）額、(3)対中国輸出（輸入）額、(4)USドル建てGDP、の4種類のマクロ経済データを読み込みます。データは2022年のデータがgithubに格納されています。\n",
        "\n",
        "※データ読込みがエラーする場合は、プルダウンメニューの「ランタイム」→「ランタイムを接続解除して削除」を選択してライブラリの読み込みからやり直してください。"
      ],
      "metadata": {
        "id": "6wyrLWzTSuL_"
      }
    },
    {
      "cell_type": "code",
      "source": [
        "#[2]データ読込み\n",
        "uploaded = files.upload() #データアップロードの指示\n",
        "import io #データ形式指定のライブラリのインポート\n",
        "df = pd.read_csv(io.BytesIO(uploaded['DOT_export.csv'])) #データ読込みの指示\n",
        "df.head() #データ概要の表示"
      ],
      "metadata": {
        "id": "UPoLc5KGoDAH"
      },
      "execution_count": null,
      "outputs": []
    },
    {
      "cell_type": "markdown",
      "source": [
        "　上記のセルのデータ取得では、「国・地域名」がインデックス化されず、データとして読み込まれています。次のセルではこの「国・地域名」をインデックス化することで、可視化やデータ分析作業を効率化します。"
      ],
      "metadata": {
        "id": "6hBiMKt6XNMl"
      }
    },
    {
      "cell_type": "code",
      "source": [
        "#[3]国・地域名のインデックス化\n",
        "df = df.set_index(\"id\")#国・地域をインデックスへ変更\n",
        "df.head()"
      ],
      "metadata": {
        "id": "hntF3HUlrZad"
      },
      "execution_count": null,
      "outputs": []
    },
    {
      "cell_type": "markdown",
      "source": [
        "　続いて、このpandasデータフレームを用いて、新変数を算出、定義します。この作業はMS Excelで行う作業のイメージと同じです。"
      ],
      "metadata": {
        "id": "Tcgtnbl-XvtJ"
      }
    },
    {
      "cell_type": "code",
      "source": [
        "#[4]新しい変数の算出\n",
        "df['trade_GDP'] = df['WORLD']/df['GDP']\n",
        "df['ratio']=df['CHINA']/df['USA']\n",
        "df.head()"
      ],
      "metadata": {
        "id": "yui7-jF4E7C-"
      },
      "execution_count": null,
      "outputs": []
    },
    {
      "cell_type": "markdown",
      "source": [
        "　最後に、横軸に「全貿易額の対GDP比」、縦軸に「米国向け輸出額（輸入額）／中国向け輸出額（輸入額）」の散布図を作成します。全世界向け輸出額（輸入額）に比べ、左上にマーカーがプロットされる国・地域は、中国との地理的距離が近く、貿易規模も大きい国・地域です。"
      ],
      "metadata": {
        "id": "WjEedmRyYRF0"
      }
    },
    {
      "cell_type": "code",
      "source": [
        "#[5]重力モデルの可視化\n",
        "plt.scatter(df['trade_GDP'], df['ratio'],s=150, alpha=0.5)\n",
        "plt.title(\"Table. Geographical Distances and Bilateral Trades\")\n",
        "plt.xlabel(\"Total Exports / GDP\")\n",
        "plt.ylabel(\"China / United States\")\n",
        "for i, txt in enumerate(df.index.values):\n",
        "    plt.annotate(txt, (df['trade_GDP'].values[i], df['ratio'].values[i]))"
      ],
      "metadata": {
        "colab": {
          "base_uri": "https://localhost:8080/",
          "height": 472
        },
        "id": "PePAY4CQy2lS",
        "outputId": "4d99fb33-8afe-48e0-d8cf-b1e2ba706fe4"
      },
      "execution_count": 9,
      "outputs": [
        {
          "output_type": "display_data",
          "data": {
            "text/plain": [
              "<Figure size 640x480 with 1 Axes>"
            ],
            "image/png": "[encoded data removed]"
          },
          "metadata": {}
        }
      ]
    }
  ]
}