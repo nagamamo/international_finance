{
  "nbformat": 4,
  "nbformat_minor": 0,
  "metadata": {
    "colab": {
      "provenance": [],
      "include_colab_link": true
    },
    "kernelspec": {
      "name": "python3",
      "display_name": "Python 3"
    },
    "language_info": {
      "name": "python"
    }
  },
  "cells": [
    {
      "cell_type": "markdown",
      "metadata": {
        "id": "view-in-github",
        "colab_type": "text"
      },
      "source": [
        "<a href=\"https://colab.research.google.com/github/nagamamo/international_finance/blob/main/3_foreign_direct_investment_statistics.ipynb\" target=\"_parent\"><img src=\"https://colab.research.google.com/assets/colab-badge.svg\" alt=\"Open In Colab\"/></a>"
      ]
    },
    {
      "cell_type": "markdown",
      "source": [
        "第3回　外国直接投資のデータサイエンス：UNCTADデータの分析"
      ],
      "metadata": {
        "id": "fdIPfRibRG3A"
      }
    },
    {
      "cell_type": "markdown",
      "source": [
        "　前回の説明通り、国際収支は「経常勘定」と「金融勘定」の両輪から構成されます。そして、金融勘定は、①外国直接投資、②国際証券投資、③その他投資（国際銀行融資）、④外貨準備の4項目から構成されます。本例では、①外国直接投資の分析例を示します。\n",
        "\n",
        "　外国直接投資は対外直接投資、対内直接投資の2つに分類されます。ISバランスが貯蓄超過の場合は、より高い投資収益率を求めて前者が大きくなり、投資超過の場合は後者が大きくなります。\n",
        "\n",
        "　1964年に設立された国連貿易開発会議(United Nations Conference on Trade and Investment: UNCTAD)は、外国直接投資統計を世界の国々から収集し、統計を対外公表しています。データは同機関のHPからExcelで入手することも可能ですが、本例は、1970年から現在までの国連全加盟国のバルクデータを一括取得し、プログラミングすることでの、分析例を示します。"
      ],
      "metadata": {
        "id": "NCF4gmsGRRrq"
      }
    },
    {
      "cell_type": "markdown",
      "source": [
        "1.　ライブラリの読み込み\n",
        "\n",
        "　　記述統計用ライブラリpandasと図表作成のためのmatplotlibを使用します。"
      ],
      "metadata": {
        "id": "vifjjPZ6TDmY"
      }
    },
    {
      "cell_type": "code",
      "source": [
        "#[1]ライブラリの読み込み\n",
        "import pandas as pd\n",
        "import matplotlib.pyplot as plt"
      ],
      "metadata": {
        "id": "sSUSwPh3RHdA"
      },
      "execution_count": 1,
      "outputs": []
    },
    {
      "cell_type": "markdown",
      "source": [
        "2．データの読み込み\n",
        "\n",
        "　UNCTADのデータセンターhttps://unctadstat.unctad.org/wds/ReportFolders/reportFolders.aspx?sCS_ChosenLang=en\n",
        "からバルクデータを入手し、このCSVファイルをgithubにアップロードします。その上で、1行目の記述によりこのデータを読み込み、pandasデータフレームとして保存します。3行目で最左列をインデックス化します。事前にURLにアップロードしておくことで、直接CSVファイルを読み込むよりも、迅速にデータが読み込めます。"
      ],
      "metadata": {
        "id": "WaVcKJi_TRHS"
      }
    },
    {
      "cell_type": "code",
      "source": [
        "#[2]データの読み込み\n",
        "url = \"https://github.com/nagamamo/data/blob/main/3_unctad_fdi_2024.csv?raw=true\"#Git-hubからCSVデータの入手\n",
        "data = pd.read_csv(url)#データフレームの作成\n",
        "fdi = data.set_index(\"Year\")#年をインデックスへ変更"
      ],
      "metadata": {
        "id": "GezPL2nKT5dZ"
      },
      "execution_count": 2,
      "outputs": []
    },
    {
      "cell_type": "markdown",
      "source": [
        "3.　データ確認\n",
        "\n",
        "　読み込んだデータの冒頭5行を表示します。この作業を行うことで、バルクデータに収録されたデータや変数名を後々把握することができます。出力結果は、全世界、アフガニスタン、アルジェリアの順に、対外直接投資、対内直接投資のデータが1970年から収録されていることがわかります。"
      ],
      "metadata": {
        "id": "6PQTW0ZxUmd1"
      }
    },
    {
      "cell_type": "code",
      "source": [
        "#[3]データの確認\n",
        "fdi.head()"
      ],
      "metadata": {
        "id": "ibflI-DzWFDS",
        "collapsed": true
      },
      "execution_count": null,
      "outputs": []
    },
    {
      "cell_type": "markdown",
      "source": [
        "4.　国・地域リーグテーブルの作成\n",
        "\n",
        "　本例では、2020年の対内直接投資（対GDP比）のデータを用い、直接投資受入規模が大きい国・地域から小さい国・地域への順に並べ替えます。\n",
        "\n",
        "4.1　リーグテーブルの「年」\n",
        "\n",
        "1行目において、locを用いて2020年のみのデータを抽出します。\n",
        "\n",
        "4.2　対内直接投資と対外直接投資の選択\n",
        "\n",
        "　2行目において、Directionを\"1\"にすることで対内直接投資を選択します。\"2\"は対外直接投資です。Modeはその年々の流出入額（フロー）である\"8\"を選択します。\n",
        "\n",
        "4.3　変数名書換えとデータの並べ替え\n",
        "\n",
        "　3行目で変数名を書き換え、4行目でsort_valuesを用いて降べきの順にデータを並べ替えます。結果を見ると、ケイマン諸島やルクセンブルクなどタクスヘブン国・地域に大規模な直接投資が流入していることがわかります。他方、これらの国・地域に匹敵する規模の対内直接投資を受け入れている地域が香港です。リーグテーブルの経年変化を見たい場合は、1行目の{2020]を他の年に変更すると、その年のリーグテーブルが作成できます。\n",
        "\n"
      ],
      "metadata": {
        "id": "csOgF8qUVNKH"
      }
    },
    {
      "cell_type": "code",
      "source": [
        "#[4]国・地域リーグテーブルの作成\n",
        "df=fdi.loc[2020]\n",
        "df=df[(df[\"Direction\"] == 1)&(df[\"Flow\"] == 8)]\n",
        "df=df[['Economy Label','Percentage of Gross Domestic Product']]\n",
        "df_s = df.sort_values(by='Percentage of Gross Domestic Product', ascending=False).head(150)\n",
        "#df_s.rename(columns={'BN.CAB.XOKA.GD.ZS': 'IS_Balance per GDP'},inplace=True) #変数名の修正\n",
        "df_s"
      ],
      "metadata": {
        "id": "Dt5_QB2fpQxv",
        "colab": {
          "base_uri": "https://localhost:8080/",
          "height": 455
        },
        "outputId": "9f212cdd-617a-4a3d-bbb7-e72d0f412009"
      },
      "execution_count": 5,
      "outputs": [
        {
          "output_type": "execute_result",
          "data": {
            "text/plain": [
              "                       Economy Label  Percentage of Gross Domestic Product\n",
              "Year                                                                      \n",
              "2020          British Virgin Islands                            2773.02784\n",
              "2020                  Cayman Islands                             418.27710\n",
              "2020            China, Hong Kong SAR                              39.05302\n",
              "2020                          Guyana                              38.12459\n",
              "2020                           Congo                              35.01300\n",
              "...                              ...                                   ...\n",
              "2020                        Kiribati                               1.47712\n",
              "2020     United Republic of Tanzania                               1.44680\n",
              "2020                  Western Africa                               1.44447\n",
              "2020  Venezuela (Bolivarian Rep. of)                               1.42026\n",
              "2020                         Uruguay                               1.40815\n",
              "\n",
              "[150 rows x 2 columns]"
            ],
            "text/html": [
              "\n",
              "  <div id=\"df-1cc729f5-0380-4b16-8577-a88a81deb50c\" class=\"colab-df-container\">\n",
              "    <div>\n",
              "<style scoped>\n",
              "    .dataframe tbody tr th:only-of-type {\n",
              "        vertical-align: middle;\n",
              "    }\n",
              "\n",
              "    .dataframe tbody tr th {\n",
              "        vertical-align: top;\n",
              "    }\n",
              "\n",
              "    .dataframe thead th {\n",
              "        text-align: right;\n",
              "    }\n",
              "</style>\n",
              "<table border=\"1\" class=\"dataframe\">\n",
              "  <thead>\n",
              "    <tr style=\"text-align: right;\">\n",
              "      <th></th>\n",
              "      <th>Economy Label</th>\n",
              "      <th>Percentage of Gross Domestic Product</th>\n",
              "    </tr>\n",
              "    <tr>\n",
              "      <th>Year</th>\n",
              "      <th></th>\n",
              "      <th></th>\n",
              "    </tr>\n",
              "  </thead>\n",
              "  <tbody>\n",
              "    <tr>\n",
              "      <th>2020</th>\n",
              "      <td>British Virgin Islands</td>\n",
              "      <td>2773.02784</td>\n",
              "    </tr>\n",
              "    <tr>\n",
              "      <th>2020</th>\n",
              "      <td>Cayman Islands</td>\n",
              "      <td>418.27710</td>\n",
              "    </tr>\n",
              "    <tr>\n",
              "      <th>2020</th>\n",
              "      <td>China, Hong Kong SAR</td>\n",
              "      <td>39.05302</td>\n",
              "    </tr>\n",
              "    <tr>\n",
              "      <th>2020</th>\n",
              "      <td>Guyana</td>\n",
              "      <td>38.12459</td>\n",
              "    </tr>\n",
              "    <tr>\n",
              "      <th>2020</th>\n",
              "      <td>Congo</td>\n",
              "      <td>35.01300</td>\n",
              "    </tr>\n",
              "    <tr>\n",
              "      <th>...</th>\n",
              "      <td>...</td>\n",
              "      <td>...</td>\n",
              "    </tr>\n",
              "    <tr>\n",
              "      <th>2020</th>\n",
              "      <td>Kiribati</td>\n",
              "      <td>1.47712</td>\n",
              "    </tr>\n",
              "    <tr>\n",
              "      <th>2020</th>\n",
              "      <td>United Republic of Tanzania</td>\n",
              "      <td>1.44680</td>\n",
              "    </tr>\n",
              "    <tr>\n",
              "      <th>2020</th>\n",
              "      <td>Western Africa</td>\n",
              "      <td>1.44447</td>\n",
              "    </tr>\n",
              "    <tr>\n",
              "      <th>2020</th>\n",
              "      <td>Venezuela (Bolivarian Rep. of)</td>\n",
              "      <td>1.42026</td>\n",
              "    </tr>\n",
              "    <tr>\n",
              "      <th>2020</th>\n",
              "      <td>Uruguay</td>\n",
              "      <td>1.40815</td>\n",
              "    </tr>\n",
              "  </tbody>\n",
              "</table>\n",
              "<p>150 rows × 2 columns</p>\n",
              "</div>\n",
              "    <div class=\"colab-df-buttons\">\n",
              "\n",
              "  <div class=\"colab-df-container\">\n",
              "    <button class=\"colab-df-convert\" onclick=\"convertToInteractive('df-1cc729f5-0380-4b16-8577-a88a81deb50c')\"\n",
              "            title=\"Convert this dataframe to an interactive table.\"\n",
              "            style=\"display:none;\">\n",
              "\n",
              "  <svg xmlns=\"http://www.w3.org/2000/svg\" height=\"24px\" viewBox=\"0 -960 960 960\">\n",
              "    <path d=\"M120-120v-720h720v720H120Zm60-500h600v-160H180v160Zm220 220h160v-160H400v160Zm0 220h160v-160H400v160ZM180-400h160v-160H180v160Zm440 0h160v-160H620v160ZM180-180h160v-160H180v160Zm440 0h160v-160H620v160Z\"/>\n",
              "  </svg>\n",
              "    </button>\n",
              "\n",
              "  <style>\n",
              "    .colab-df-container {\n",
              "      display:flex;\n",
              "      gap: 12px;\n",
              "    }\n",
              "\n",
              "    .colab-df-convert {\n",
              "      background-color: #E8F0FE;\n",
              "      border: none;\n",
              "      border-radius: 50%;\n",
              "      cursor: pointer;\n",
              "      display: none;\n",
              "      fill: #1967D2;\n",
              "      height: 32px;\n",
              "      padding: 0 0 0 0;\n",
              "      width: 32px;\n",
              "    }\n",
              "\n",
              "    .colab-df-convert:hover {\n",
              "      background-color: #E2EBFA;\n",
              "      box-shadow: 0px 1px 2px rgba(60, 64, 67, 0.3), 0px 1px 3px 1px rgba(60, 64, 67, 0.15);\n",
              "      fill: #174EA6;\n",
              "    }\n",
              "\n",
              "    .colab-df-buttons div {\n",
              "      margin-bottom: 4px;\n",
              "    }\n",
              "\n",
              "    [theme=dark] .colab-df-convert {\n",
              "      background-color: #3B4455;\n",
              "      fill: #D2E3FC;\n",
              "    }\n",
              "\n",
              "    [theme=dark] .colab-df-convert:hover {\n",
              "      background-color: #434B5C;\n",
              "      box-shadow: 0px 1px 3px 1px rgba(0, 0, 0, 0.15);\n",
              "      filter: drop-shadow(0px 1px 2px rgba(0, 0, 0, 0.3));\n",
              "      fill: #FFFFFF;\n",
              "    }\n",
              "  </style>\n",
              "\n",
              "    <script>\n",
              "      const buttonEl =\n",
              "        document.querySelector('#df-1cc729f5-0380-4b16-8577-a88a81deb50c button.colab-df-convert');\n",
              "      buttonEl.style.display =\n",
              "        google.colab.kernel.accessAllowed ? 'block' : 'none';\n",
              "\n",
              "      async function convertToInteractive(key) {\n",
              "        const element = document.querySelector('#df-1cc729f5-0380-4b16-8577-a88a81deb50c');\n",
              "        const dataTable =\n",
              "          await google.colab.kernel.invokeFunction('convertToInteractive',\n",
              "                                                    [key], {});\n",
              "        if (!dataTable) return;\n",
              "\n",
              "        const docLinkHtml = 'Like what you see? Visit the ' +\n",
              "          '<a target=\"_blank\" href=https://colab.research.google.com/notebooks/data_table.ipynb>data table notebook</a>'\n",
              "          + ' to learn more about interactive tables.';\n",
              "        element.innerHTML = '';\n",
              "        dataTable['output_type'] = 'display_data';\n",
              "        await google.colab.output.renderOutput(dataTable, element);\n",
              "        const docLink = document.createElement('div');\n",
              "        docLink.innerHTML = docLinkHtml;\n",
              "        element.appendChild(docLink);\n",
              "      }\n",
              "    </script>\n",
              "  </div>\n",
              "\n",
              "\n",
              "<div id=\"df-6f7d7226-7aa1-4451-b917-c9416fbd8f47\">\n",
              "  <button class=\"colab-df-quickchart\" onclick=\"quickchart('df-6f7d7226-7aa1-4451-b917-c9416fbd8f47')\"\n",
              "            title=\"Suggest charts\"\n",
              "            style=\"display:none;\">\n",
              "\n",
              "<svg xmlns=\"http://www.w3.org/2000/svg\" height=\"24px\"viewBox=\"0 0 24 24\"\n",
              "     width=\"24px\">\n",
              "    <g>\n",
              "        <path d=\"M19 3H5c-1.1 0-2 .9-2 2v14c0 1.1.9 2 2 2h14c1.1 0 2-.9 2-2V5c0-1.1-.9-2-2-2zM9 17H7v-7h2v7zm4 0h-2V7h2v10zm4 0h-2v-4h2v4z\"/>\n",
              "    </g>\n",
              "</svg>\n",
              "  </button>\n",
              "\n",
              "<style>\n",
              "  .colab-df-quickchart {\n",
              "      --bg-color: #E8F0FE;\n",
              "      --fill-color: #1967D2;\n",
              "      --hover-bg-color: #E2EBFA;\n",
              "      --hover-fill-color: #174EA6;\n",
              "      --disabled-fill-color: #AAA;\n",
              "      --disabled-bg-color: #DDD;\n",
              "  }\n",
              "\n",
              "  [theme=dark] .colab-df-quickchart {\n",
              "      --bg-color: #3B4455;\n",
              "      --fill-color: #D2E3FC;\n",
              "      --hover-bg-color: #434B5C;\n",
              "      --hover-fill-color: #FFFFFF;\n",
              "      --disabled-bg-color: #3B4455;\n",
              "      --disabled-fill-color: #666;\n",
              "  }\n",
              "\n",
              "  .colab-df-quickchart {\n",
              "    background-color: var(--bg-color);\n",
              "    border: none;\n",
              "    border-radius: 50%;\n",
              "    cursor: pointer;\n",
              "    display: none;\n",
              "    fill: var(--fill-color);\n",
              "    height: 32px;\n",
              "    padding: 0;\n",
              "    width: 32px;\n",
              "  }\n",
              "\n",
              "  .colab-df-quickchart:hover {\n",
              "    background-color: var(--hover-bg-color);\n",
              "    box-shadow: 0 1px 2px rgba(60, 64, 67, 0.3), 0 1px 3px 1px rgba(60, 64, 67, 0.15);\n",
              "    fill: var(--button-hover-fill-color);\n",
              "  }\n",
              "\n",
              "  .colab-df-quickchart-complete:disabled,\n",
              "  .colab-df-quickchart-complete:disabled:hover {\n",
              "    background-color: var(--disabled-bg-color);\n",
              "    fill: var(--disabled-fill-color);\n",
              "    box-shadow: none;\n",
              "  }\n",
              "\n",
              "  .colab-df-spinner {\n",
              "    border: 2px solid var(--fill-color);\n",
              "    border-color: transparent;\n",
              "    border-bottom-color: var(--fill-color);\n",
              "    animation:\n",
              "      spin 1s steps(1) infinite;\n",
              "  }\n",
              "\n",
              "  @keyframes spin {\n",
              "    0% {\n",
              "      border-color: transparent;\n",
              "      border-bottom-color: var(--fill-color);\n",
              "      border-left-color: var(--fill-color);\n",
              "    }\n",
              "    20% {\n",
              "      border-color: transparent;\n",
              "      border-left-color: var(--fill-color);\n",
              "      border-top-color: var(--fill-color);\n",
              "    }\n",
              "    30% {\n",
              "      border-color: transparent;\n",
              "      border-left-color: var(--fill-color);\n",
              "      border-top-color: var(--fill-color);\n",
              "      border-right-color: var(--fill-color);\n",
              "    }\n",
              "    40% {\n",
              "      border-color: transparent;\n",
              "      border-right-color: var(--fill-color);\n",
              "      border-top-color: var(--fill-color);\n",
              "    }\n",
              "    60% {\n",
              "      border-color: transparent;\n",
              "      border-right-color: var(--fill-color);\n",
              "    }\n",
              "    80% {\n",
              "      border-color: transparent;\n",
              "      border-right-color: var(--fill-color);\n",
              "      border-bottom-color: var(--fill-color);\n",
              "    }\n",
              "    90% {\n",
              "      border-color: transparent;\n",
              "      border-bottom-color: var(--fill-color);\n",
              "    }\n",
              "  }\n",
              "</style>\n",
              "\n",
              "  <script>\n",
              "    async function quickchart(key) {\n",
              "      const quickchartButtonEl =\n",
              "        document.querySelector('#' + key + ' button');\n",
              "      quickchartButtonEl.disabled = true;  // To prevent multiple clicks.\n",
              "      quickchartButtonEl.classList.add('colab-df-spinner');\n",
              "      try {\n",
              "        const charts = await google.colab.kernel.invokeFunction(\n",
              "            'suggestCharts', [key], {});\n",
              "      } catch (error) {\n",
              "        console.error('Error during call to suggestCharts:', error);\n",
              "      }\n",
              "      quickchartButtonEl.classList.remove('colab-df-spinner');\n",
              "      quickchartButtonEl.classList.add('colab-df-quickchart-complete');\n",
              "    }\n",
              "    (() => {\n",
              "      let quickchartButtonEl =\n",
              "        document.querySelector('#df-6f7d7226-7aa1-4451-b917-c9416fbd8f47 button');\n",
              "      quickchartButtonEl.style.display =\n",
              "        google.colab.kernel.accessAllowed ? 'block' : 'none';\n",
              "    })();\n",
              "  </script>\n",
              "</div>\n",
              "\n",
              "  <div id=\"id_7498ccec-0a04-43bd-b51d-c89c5e07316d\">\n",
              "    <style>\n",
              "      .colab-df-generate {\n",
              "        background-color: #E8F0FE;\n",
              "        border: none;\n",
              "        border-radius: 50%;\n",
              "        cursor: pointer;\n",
              "        display: none;\n",
              "        fill: #1967D2;\n",
              "        height: 32px;\n",
              "        padding: 0 0 0 0;\n",
              "        width: 32px;\n",
              "      }\n",
              "\n",
              "      .colab-df-generate:hover {\n",
              "        background-color: #E2EBFA;\n",
              "        box-shadow: 0px 1px 2px rgba(60, 64, 67, 0.3), 0px 1px 3px 1px rgba(60, 64, 67, 0.15);\n",
              "        fill: #174EA6;\n",
              "      }\n",
              "\n",
              "      [theme=dark] .colab-df-generate {\n",
              "        background-color: #3B4455;\n",
              "        fill: #D2E3FC;\n",
              "      }\n",
              "\n",
              "      [theme=dark] .colab-df-generate:hover {\n",
              "        background-color: #434B5C;\n",
              "        box-shadow: 0px 1px 3px 1px rgba(0, 0, 0, 0.15);\n",
              "        filter: drop-shadow(0px 1px 2px rgba(0, 0, 0, 0.3));\n",
              "        fill: #FFFFFF;\n",
              "      }\n",
              "    </style>\n",
              "    <button class=\"colab-df-generate\" onclick=\"generateWithVariable('df_s')\"\n",
              "            title=\"Generate code using this dataframe.\"\n",
              "            style=\"display:none;\">\n",
              "\n",
              "  <svg xmlns=\"http://www.w3.org/2000/svg\" height=\"24px\"viewBox=\"0 0 24 24\"\n",
              "       width=\"24px\">\n",
              "    <path d=\"M7,19H8.4L18.45,9,17,7.55,7,17.6ZM5,21V16.75L18.45,3.32a2,2,0,0,1,2.83,0l1.4,1.43a1.91,1.91,0,0,1,.58,1.4,1.91,1.91,0,0,1-.58,1.4L9.25,21ZM18.45,9,17,7.55Zm-12,3A5.31,5.31,0,0,0,4.9,8.1,5.31,5.31,0,0,0,1,6.5,5.31,5.31,0,0,0,4.9,4.9,5.31,5.31,0,0,0,6.5,1,5.31,5.31,0,0,0,8.1,4.9,5.31,5.31,0,0,0,12,6.5,5.46,5.46,0,0,0,6.5,12Z\"/>\n",
              "  </svg>\n",
              "    </button>\n",
              "    <script>\n",
              "      (() => {\n",
              "      const buttonEl =\n",
              "        document.querySelector('#id_7498ccec-0a04-43bd-b51d-c89c5e07316d button.colab-df-generate');\n",
              "      buttonEl.style.display =\n",
              "        google.colab.kernel.accessAllowed ? 'block' : 'none';\n",
              "\n",
              "      buttonEl.onclick = () => {\n",
              "        google.colab.notebook.generateWithVariable('df_s');\n",
              "      }\n",
              "      })();\n",
              "    </script>\n",
              "  </div>\n",
              "\n",
              "    </div>\n",
              "  </div>\n"
            ],
            "application/vnd.google.colaboratory.intrinsic+json": {
              "type": "dataframe",
              "variable_name": "df_s",
              "summary": "{\n  \"name\": \"df_s\",\n  \"rows\": 150,\n  \"fields\": [\n    {\n      \"column\": \"Year\",\n      \"properties\": {\n        \"dtype\": \"number\",\n        \"std\": 0,\n        \"min\": 2020,\n        \"max\": 2020,\n        \"num_unique_values\": 1,\n        \"samples\": [\n          2020\n        ],\n        \"semantic_type\": \"\",\n        \"description\": \"\"\n      }\n    },\n    {\n      \"column\": \"Economy Label\",\n      \"properties\": {\n        \"dtype\": \"string\",\n        \"num_unique_values\": 150,\n        \"samples\": [\n          \"Caribbean\"\n        ],\n        \"semantic_type\": \"\",\n        \"description\": \"\"\n      }\n    },\n    {\n      \"column\": \"Percentage of Gross Domestic Product\",\n      \"properties\": {\n        \"dtype\": \"number\",\n        \"std\": 228.33936403037015,\n        \"min\": 1.40815,\n        \"max\": 2773.02784,\n        \"num_unique_values\": 147,\n        \"samples\": [\n          1.74455\n        ],\n        \"semantic_type\": \"\",\n        \"description\": \"\"\n      }\n    }\n  ]\n}"
            }
          },
          "metadata": {},
          "execution_count": 5
        }
      ]
    },
    {
      "cell_type": "markdown",
      "source": [
        "5.　個別国の対外直接投資・対内直接投資の分析\n",
        "\n",
        "5.1　対米直接投資\n",
        "\n",
        "　本例では諸外国が米国に対して行ってきた対米直接投資のデータ抽出と記述統計、可視化の手順を示します。他国を分析する場合は、次のセルの国名を変更してください。また、対外直接投資を分析するときは、\"Direction\"==1を\"Direction\"==2に変更してください。"
      ],
      "metadata": {
        "id": "1XQlrlxsmDCQ"
      }
    },
    {
      "cell_type": "code",
      "source": [
        "#[4]国・地域データの抽出\n",
        "usa=fdi[(fdi[\"Economy Label\"] == \"United States\")&(fdi[\"Direction\"] == 1)&(fdi[\"Flow\"] == 8)]\n",
        "usa"
      ],
      "metadata": {
        "id": "47o3KY0cWLZW"
      },
      "execution_count": null,
      "outputs": []
    },
    {
      "cell_type": "markdown",
      "source": [
        "5.2　可視化\n",
        "\n",
        "　次に抽出したデータを可視化します。これを見ると、第2回のデモで示した通り、世界最大の投資超過国、米国は、過去50年間、積極的に対米直接投資を受け入れることで、貯蓄不足を賄ってきたことがわかります。"
      ],
      "metadata": {
        "id": "4X1abvPTm_3F"
      }
    },
    {
      "cell_type": "code",
      "source": [
        "#[5]可視化\n",
        "plt.plot(usa['Percentage of Gross Domestic Product'])\n",
        "plt.title(\"Inward Foreign Direct Investment: United States\")\n",
        "plt.xlabel(\"Year\")\n",
        "plt.ylabel(\"Percent\")"
      ],
      "metadata": {
        "id": "bYOXhEhVWZbO",
        "colab": {
          "base_uri": "https://localhost:8080/",
          "height": 490
        },
        "outputId": "7d04277e-1a0c-4cbe-9a86-4494a32c71dd"
      },
      "execution_count": 9,
      "outputs": [
        {
          "output_type": "execute_result",
          "data": {
            "text/plain": [
              "Text(0, 0.5, 'Percent')"
            ]
          },
          "metadata": {},
          "execution_count": 9
        },
        {
          "output_type": "display_data",
          "data": {
            "text/plain": [
              "<Figure size 640x480 with 1 Axes>"
            ],
            "image/png": "[encoded data removed]"
          },
          "metadata": {}
        }
      ]
    }
  ]
}