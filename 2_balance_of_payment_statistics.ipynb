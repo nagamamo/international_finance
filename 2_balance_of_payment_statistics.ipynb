{
  "nbformat": 4,
  "nbformat_minor": 0,
  "metadata": {
    "colab": {
      "provenance": [],
      "authorship_tag": "ABX9TyNhtBY9dWml7va2qqB7gXC1",
      "include_colab_link": true
    },
    "kernelspec": {
      "name": "python3",
      "display_name": "Python 3"
    },
    "language_info": {
      "name": "python"
    }
  },
  "cells": [
    {
      "cell_type": "markdown",
      "metadata": {
        "id": "view-in-github",
        "colab_type": "text"
      },
      "source": [
        "<a href=\"https://colab.research.google.com/github/nagamamo/international_finance/blob/main/2_balance_of_payment_statistics.ipynb\" target=\"_parent\"><img src=\"https://colab.research.google.com/assets/colab-badge.svg\" alt=\"Open In Colab\"/></a>"
      ]
    },
    {
      "cell_type": "markdown",
      "source": [
        "第2回　世界各国の国際収支データの取得と分析\n",
        "\n",
        "　第2回国際金融プログラミングデモでは、国際収支データを用いたデータサイエンス分析を行います。本例では、ライブラリwbgapiを用いて世界銀行データを取得し、統計分析します。"
      ],
      "metadata": {
        "id": "LMElNc6wunlW"
      }
    },
    {
      "cell_type": "markdown",
      "source": [],
      "metadata": {
        "id": "YsT87dnybZVE"
      }
    },
    {
      "cell_type": "markdown",
      "source": [
        "1.　パッケージのインストール"
      ],
      "metadata": {
        "id": "uRhYMZulvh84"
      }
    },
    {
      "cell_type": "code",
      "metadata": {
        "id": "cXoxyceSrzcZ"
      },
      "source": [
        "pip install wbgapi"
      ],
      "execution_count": null,
      "outputs": []
    },
    {
      "cell_type": "markdown",
      "source": [
        "2.　ライブラリの読み込み\n",
        "\n",
        "  　ここではデータ取得と分析に必要なライブラリをインポートします。今回使用するのはwbgapi、pandas_datareader、pandas、datetime、numpy、matplotlibの6種類です。"
      ],
      "metadata": {
        "id": "QiP1BPH0vmYt"
      }
    },
    {
      "cell_type": "code",
      "metadata": {
        "id": "1BOdaBPDr141"
      },
      "source": [
        "#[2]ライブラリの読み込み\n",
        "import wbgapi as wb #世界銀行データ取得のためのライブラリ\n",
        "import pandas_datareader as data #データ取得ライブラリ\n",
        "import pandas as pd #データセット管理のためのライブラリ\n",
        "import datetime #時系列データ管理のためのライブラリ\n",
        "import numpy as np #統計処理のためのライブラリ\n",
        "import matplotlib.pyplot as plt #図表作成のためのライブラリ"
      ],
      "execution_count": null,
      "outputs": []
    },
    {
      "cell_type": "markdown",
      "source": [
        "3．データコードの検索\n",
        "\n",
        "　世界銀行データから国際収支統計を取得するためには、必要なデータのコードと国・地域コードが必要になります。まず、データコードの検索方法は次の通りです。本例では経常収支(Current Account)を検索します。"
      ],
      "metadata": {
        "id": "zOnU7SzIwQtj"
      }
    },
    {
      "cell_type": "code",
      "source": [
        "#[3]データコードの検索\n",
        "display(wb.series.info(q='portfolio'))"
      ],
      "metadata": {
        "id": "IMOXM_GwPd1y"
      },
      "execution_count": null,
      "outputs": []
    },
    {
      "cell_type": "markdown",
      "source": [
        "4．国・地域コードの検索\n",
        "\n",
        "　次に、国・地域コードの検索方法は次の通りです。国・地域コードの場合は全コード一覧が表示されます。"
      ],
      "metadata": {
        "id": "KILqwmdfQmXV"
      }
    },
    {
      "cell_type": "code",
      "source": [
        "\"[4]国コードの検索\"\n",
        "display(wb.economy.info())"
      ],
      "metadata": {
        "id": "mBYRFclSPulK"
      },
      "execution_count": null,
      "outputs": []
    },
    {
      "cell_type": "markdown",
      "source": [
        "5.　日本・米国・中国のISバランス対GDP比のデータ取得と分析"
      ],
      "metadata": {
        "id": "fwfnvnvgwiq2"
      }
    },
    {
      "cell_type": "markdown",
      "source": [
        "  　本例では日本、米国、中国の経常収支対GDP比のデータを取得し、可視化します。取得する国／地域を変更する場合は以下のセルの1行目、取得するデータを変更する場合はセルの2行目を書き換えてください。標本期間の変更は3行目の修正です。\n",
        "  　標本期間を指定するのではなく、直近から数年間（mrv=  )という指示により、データを取得することも可能です（#4行目）。取得した複数の国のたデータは、最初は一列に並んでいるため、unstack()により国別のデータ配列に整形します。"
      ],
      "metadata": {
        "id": "a98fIHCLR5LR"
      }
    },
    {
      "cell_type": "code",
      "metadata": {
        "id": "yv8dpVccs1XY"
      },
      "source": [
        "#[5]ISバランスデータの取得\n",
        "countries = [\"JPN\",\"USA\",\"CHN\"] #国・地域コードの指定\n",
        "indicators = {'BN.CAB.XOKA.GD.ZS'} #変数コードの指定\n",
        "df=wb.data.DataFrame(indicators,countries, time=range(2000, 2022), skipBlanks=True, columns='series')\n",
        "#df=wb.data.DataFrame(indicators,countries, mrv=5)\n",
        "df.rename(columns={'BN.CAB.XOKA.GD.ZS': 'IS_Balance per GDP'},inplace=True) #変数名の修正\n",
        "dfu = df.unstack(level=0) #データ配列の整形\n",
        "dfu"
      ],
      "execution_count": null,
      "outputs": []
    },
    {
      "cell_type": "markdown",
      "source": [
        "6.　可視化と記述統計の算出\n",
        "\n",
        "　得られた日米中3カ国のISバランスデータ（対GDP比）を、matplotlibによりを可視化します。2行目ではpandasにより記述統計を算出します。本グラフと記述統計が示しているのは、日本と中国のマクロ経済は国内貯蓄超過（＞国内投資）、米国は国内投資超過（＜国内貯蓄）という点です。「国際金融論」とは、この貯蓄超過国から投資超過国への資本流入形態、資本流入決定要因、を分析する経済ファイナンス理論です。重要な点は、米中新冷戦時代の到来により、2020年代は、中国資本の米国市場への流入が遮断され、「デカップリング」と称される状況が国際金融面から拍車がかけられていることです。"
      ],
      "metadata": {
        "id": "_VEGQ4G0piDk"
      }
    },
    {
      "cell_type": "code",
      "metadata": {
        "id": "epQPd6Uqs8-F"
      },
      "source": [
        "#[6]可視化と記述統計\n",
        "dfu.plot();\n",
        "dfu.describe()"
      ],
      "execution_count": null,
      "outputs": []
    },
    {
      "cell_type": "markdown",
      "source": [
        "7    貿易収支データの取得\n",
        "\n",
        "7.1 輸出額（対GDP比）データの取得\n",
        "\n",
        "　本節では、国際収支統計の経常勘定である、輸出、輸入データ（対GDP比）の取得手順を示します。日本の輸出額、輸入額の例を示しますが、1行目を変更することで、世界190カ国いずれの国のデータの取得が可能です。"
      ],
      "metadata": {
        "id": "JAeAalV1q9ey"
      }
    },
    {
      "cell_type": "code",
      "metadata": {
        "id": "yRcTtdPRtASk"
      },
      "source": [
        "#[7]輸出対GDP比(日本)データの取得\n",
        "countries = [\"JPN\"]\n",
        "indicators = {'NE.EXP.GNFS.ZS':'Exports of Goods and Services Japan'}\n",
        "df=wb.data.DataFrame(indicators,countries, time=range(1970, 2022), skipBlanks=True, columns='series')\n",
        "df.rename(columns={'NE.EXP.GNFS.ZS': 'Exports of Goods and Services: Japan'},inplace=True) #変数名の修正\n",
        "df.plot();"
      ],
      "execution_count": null,
      "outputs": []
    },
    {
      "cell_type": "markdown",
      "source": [
        "7.2 輸入額（対GDP比）データの取得\n",
        "\n",
        "　続いて、日本の輸入額（対GDP比）のデータを可視化します。2010年代初頭以降、エネルギ―輸入額の増大により、輸入規模が上昇し続けていることが、近年の貿易サービス収支の悪化の一因となっています。"
      ],
      "metadata": {
        "id": "bsr4iZn9rYJJ"
      }
    },
    {
      "cell_type": "code",
      "metadata": {
        "id": "DZ9f9_QuvsNH",
        "colab": {
          "base_uri": "https://localhost:8080/",
          "height": 449
        },
        "outputId": "6a04f083-ec4a-470c-f026-24622877acab"
      },
      "source": [
        "#[8]輸入対GDP比(日本)データの取得\n",
        "countries = [\"JPN\"]\n",
        "indicators = {'NE.IMP.GNFS.ZS':'Imports of Goods and Services Japan'}\n",
        "df=wb.data.DataFrame(indicators,countries, time=range(1970, 2022), skipBlanks=True, columns='series')\n",
        "df.rename(columns={'NE.IMP.GNFS.ZS': 'Imports of Goods and Services: Japan'},inplace=True) #変数名の修正\n",
        "df.plot();"
      ],
      "execution_count": null,
      "outputs": [
        {
          "output_type": "display_data",
          "data": {
            "text/plain": [
              "<Figure size 640x480 with 1 Axes>"
            ],
            "image/png": "[encoded data removed]"
          },
          "metadata": {}
        }
      ]
    },
    {
      "cell_type": "markdown",
      "source": [
        "8　金融収支データの取得\n",
        "\n",
        "8.1　　対内株式投資データの取得\n",
        "\n",
        "　「国際金融論」は、金融収支は、経常収支よりも、より重要な国際収支項目です。以下は、国内投資超過（＝国内貯蓄不足）の米国への海外からの対内株式投資（対GDP比）を可視化しています。2016年のトランプ政権以降、流入規模は拡大するものの、流出（米国株式の売却）も度々大規模に発生していることがわかります。"
      ],
      "metadata": {
        "id": "VDhEhjIOsEkE"
      }
    },
    {
      "cell_type": "code",
      "metadata": {
        "id": "2p03sPwTtTXj"
      },
      "source": [
        "#[9]対米株式投資(対GDP比)\n",
        "countries = [\"USA\"]\n",
        "indicators = {'BX.PEF.TOTL.CD.WD'}\n",
        "df=wb.data.DataFrame(indicators,countries, time=range(1970, 2022), skipBlanks=True, columns='series')\n",
        "df.rename(columns={'BX.PEF.TOTL.CD.WD': 'Inward Equity Investment: USA'},inplace=True) #変数名の修正\n",
        "df.plot();"
      ],
      "execution_count": null,
      "outputs": []
    },
    {
      "cell_type": "markdown",
      "source": [
        "8.2　　世界150カ国ISバランス・リーグテーブルの作成\n",
        "\n",
        "　最後に、世界ではどの国が貯蓄超過（資本供給国）であり、どの国が投資超過国（資本受入国）であるのかを確認するため、ISバランス（対GDP比）のリーグテーブルの作成手順を説明します。以下の例は世界銀行データの2020年のみのデータを用い、2行目で大きい順から小さい順へ並べ替えています。"
      ],
      "metadata": {
        "id": "WaeAhJEGO3U5"
      }
    },
    {
      "cell_type": "code",
      "source": [
        "#[10]世界150カ国のISバランス(対GDP比)データの取得と並べ替え\n",
        "df=wb.data.DataFrame('BN.CAB.XOKA.GD.ZS', time=2020, labels=True)\n",
        "df_s = df.sort_values(by=\"BN.CAB.XOKA.GD.ZS\", ascending=False).head(150)\n",
        "df_s.rename(columns={'BN.CAB.XOKA.GD.ZS': 'IS_Balance per GDP'},inplace=True) #変数名の修正\n",
        "df_s"
      ],
      "metadata": {
        "colab": {
          "base_uri": "https://localhost:8080/",
          "height": 455
        },
        "id": "27f9REnNzr1S",
        "outputId": "89d49174-0038-47c8-c2a6-8f3ec2722bde"
      },
      "execution_count": null,
      "outputs": [
        {
          "output_type": "execute_result",
          "data": {
            "text/plain": [
              "                     Country  IS_Balance per GDP\n",
              "economy                                         \n",
              "KIR                 Kiribati           40.144897\n",
              "MHL         Marshall Islands           37.349101\n",
              "KWT                   Kuwait           20.792795\n",
              "GIN                   Guinea           18.936247\n",
              "TUV                   Tuvalu           17.421524\n",
              "...                      ...                 ...\n",
              "LBY                    Libya          -10.212311\n",
              "KNA      St. Kitts and Nevis          -10.886162\n",
              "RWA                   Rwanda          -12.066546\n",
              "ABW                    Aruba          -12.124551\n",
              "MWI                   Malawi          -12.162531\n",
              "\n",
              "[150 rows x 2 columns]"
            ],
            "text/html": [
              "\n",
              "  <div id=\"df-e251297a-1586-4fb5-b395-d19de24672ba\" class=\"colab-df-container\">\n",
              "    <div>\n",
              "<style scoped>\n",
              "    .dataframe tbody tr th:only-of-type {\n",
              "        vertical-align: middle;\n",
              "    }\n",
              "\n",
              "    .dataframe tbody tr th {\n",
              "        vertical-align: top;\n",
              "    }\n",
              "\n",
              "    .dataframe thead th {\n",
              "        text-align: right;\n",
              "    }\n",
              "</style>\n",
              "<table border=\"1\" class=\"dataframe\">\n",
              "  <thead>\n",
              "    <tr style=\"text-align: right;\">\n",
              "      <th></th>\n",
              "      <th>Country</th>\n",
              "      <th>IS_Balance per GDP</th>\n",
              "    </tr>\n",
              "    <tr>\n",
              "      <th>economy</th>\n",
              "      <th></th>\n",
              "      <th></th>\n",
              "    </tr>\n",
              "  </thead>\n",
              "  <tbody>\n",
              "    <tr>\n",
              "      <th>KIR</th>\n",
              "      <td>Kiribati</td>\n",
              "      <td>40.144897</td>\n",
              "    </tr>\n",
              "    <tr>\n",
              "      <th>MHL</th>\n",
              "      <td>Marshall Islands</td>\n",
              "      <td>37.349101</td>\n",
              "    </tr>\n",
              "    <tr>\n",
              "      <th>KWT</th>\n",
              "      <td>Kuwait</td>\n",
              "      <td>20.792795</td>\n",
              "    </tr>\n",
              "    <tr>\n",
              "      <th>GIN</th>\n",
              "      <td>Guinea</td>\n",
              "      <td>18.936247</td>\n",
              "    </tr>\n",
              "    <tr>\n",
              "      <th>TUV</th>\n",
              "      <td>Tuvalu</td>\n",
              "      <td>17.421524</td>\n",
              "    </tr>\n",
              "    <tr>\n",
              "      <th>...</th>\n",
              "      <td>...</td>\n",
              "      <td>...</td>\n",
              "    </tr>\n",
              "    <tr>\n",
              "      <th>LBY</th>\n",
              "      <td>Libya</td>\n",
              "      <td>-10.212311</td>\n",
              "    </tr>\n",
              "    <tr>\n",
              "      <th>KNA</th>\n",
              "      <td>St. Kitts and Nevis</td>\n",
              "      <td>-10.886162</td>\n",
              "    </tr>\n",
              "    <tr>\n",
              "      <th>RWA</th>\n",
              "      <td>Rwanda</td>\n",
              "      <td>-12.066546</td>\n",
              "    </tr>\n",
              "    <tr>\n",
              "      <th>ABW</th>\n",
              "      <td>Aruba</td>\n",
              "      <td>-12.124551</td>\n",
              "    </tr>\n",
              "    <tr>\n",
              "      <th>MWI</th>\n",
              "      <td>Malawi</td>\n",
              "      <td>-12.162531</td>\n",
              "    </tr>\n",
              "  </tbody>\n",
              "</table>\n",
              "<p>150 rows × 2 columns</p>\n",
              "</div>\n",
              "    <div class=\"colab-df-buttons\">\n",
              "\n",
              "  <div class=\"colab-df-container\">\n",
              "    <button class=\"colab-df-convert\" onclick=\"convertToInteractive('df-e251297a-1586-4fb5-b395-d19de24672ba')\"\n",
              "            title=\"Convert this dataframe to an interactive table.\"\n",
              "            style=\"display:none;\">\n",
              "\n",
              "  <svg xmlns=\"http://www.w3.org/2000/svg\" height=\"24px\" viewBox=\"0 -960 960 960\">\n",
              "    <path d=\"M120-120v-720h720v720H120Zm60-500h600v-160H180v160Zm220 220h160v-160H400v160Zm0 220h160v-160H400v160ZM180-400h160v-160H180v160Zm440 0h160v-160H620v160ZM180-180h160v-160H180v160Zm440 0h160v-160H620v160Z\"/>\n",
              "  </svg>\n",
              "    </button>\n",
              "\n",
              "  <style>\n",
              "    .colab-df-container {\n",
              "      display:flex;\n",
              "      gap: 12px;\n",
              "    }\n",
              "\n",
              "    .colab-df-convert {\n",
              "      background-color: #E8F0FE;\n",
              "      border: none;\n",
              "      border-radius: 50%;\n",
              "      cursor: pointer;\n",
              "      display: none;\n",
              "      fill: #1967D2;\n",
              "      height: 32px;\n",
              "      padding: 0 0 0 0;\n",
              "      width: 32px;\n",
              "    }\n",
              "\n",
              "    .colab-df-convert:hover {\n",
              "      background-color: #E2EBFA;\n",
              "      box-shadow: 0px 1px 2px rgba(60, 64, 67, 0.3), 0px 1px 3px 1px rgba(60, 64, 67, 0.15);\n",
              "      fill: #174EA6;\n",
              "    }\n",
              "\n",
              "    .colab-df-buttons div {\n",
              "      margin-bottom: 4px;\n",
              "    }\n",
              "\n",
              "    [theme=dark] .colab-df-convert {\n",
              "      background-color: #3B4455;\n",
              "      fill: #D2E3FC;\n",
              "    }\n",
              "\n",
              "    [theme=dark] .colab-df-convert:hover {\n",
              "      background-color: #434B5C;\n",
              "      box-shadow: 0px 1px 3px 1px rgba(0, 0, 0, 0.15);\n",
              "      filter: drop-shadow(0px 1px 2px rgba(0, 0, 0, 0.3));\n",
              "      fill: #FFFFFF;\n",
              "    }\n",
              "  </style>\n",
              "\n",
              "    <script>\n",
              "      const buttonEl =\n",
              "        document.querySelector('#df-e251297a-1586-4fb5-b395-d19de24672ba button.colab-df-convert');\n",
              "      buttonEl.style.display =\n",
              "        google.colab.kernel.accessAllowed ? 'block' : 'none';\n",
              "\n",
              "      async function convertToInteractive(key) {\n",
              "        const element = document.querySelector('#df-e251297a-1586-4fb5-b395-d19de24672ba');\n",
              "        const dataTable =\n",
              "          await google.colab.kernel.invokeFunction('convertToInteractive',\n",
              "                                                    [key], {});\n",
              "        if (!dataTable) return;\n",
              "\n",
              "        const docLinkHtml = 'Like what you see? Visit the ' +\n",
              "          '<a target=\"_blank\" href=https://colab.research.google.com/notebooks/data_table.ipynb>data table notebook</a>'\n",
              "          + ' to learn more about interactive tables.';\n",
              "        element.innerHTML = '';\n",
              "        dataTable['output_type'] = 'display_data';\n",
              "        await google.colab.output.renderOutput(dataTable, element);\n",
              "        const docLink = document.createElement('div');\n",
              "        docLink.innerHTML = docLinkHtml;\n",
              "        element.appendChild(docLink);\n",
              "      }\n",
              "    </script>\n",
              "  </div>\n",
              "\n",
              "\n",
              "<div id=\"df-f13321de-7fae-41f1-9f5a-a089571d6a97\">\n",
              "  <button class=\"colab-df-quickchart\" onclick=\"quickchart('df-f13321de-7fae-41f1-9f5a-a089571d6a97')\"\n",
              "            title=\"Suggest charts.\"\n",
              "            style=\"display:none;\">\n",
              "\n",
              "<svg xmlns=\"http://www.w3.org/2000/svg\" height=\"24px\"viewBox=\"0 0 24 24\"\n",
              "     width=\"24px\">\n",
              "    <g>\n",
              "        <path d=\"M19 3H5c-1.1 0-2 .9-2 2v14c0 1.1.9 2 2 2h14c1.1 0 2-.9 2-2V5c0-1.1-.9-2-2-2zM9 17H7v-7h2v7zm4 0h-2V7h2v10zm4 0h-2v-4h2v4z\"/>\n",
              "    </g>\n",
              "</svg>\n",
              "  </button>\n",
              "\n",
              "<style>\n",
              "  .colab-df-quickchart {\n",
              "      --bg-color: #E8F0FE;\n",
              "      --fill-color: #1967D2;\n",
              "      --hover-bg-color: #E2EBFA;\n",
              "      --hover-fill-color: #174EA6;\n",
              "      --disabled-fill-color: #AAA;\n",
              "      --disabled-bg-color: #DDD;\n",
              "  }\n",
              "\n",
              "  [theme=dark] .colab-df-quickchart {\n",
              "      --bg-color: #3B4455;\n",
              "      --fill-color: #D2E3FC;\n",
              "      --hover-bg-color: #434B5C;\n",
              "      --hover-fill-color: #FFFFFF;\n",
              "      --disabled-bg-color: #3B4455;\n",
              "      --disabled-fill-color: #666;\n",
              "  }\n",
              "\n",
              "  .colab-df-quickchart {\n",
              "    background-color: var(--bg-color);\n",
              "    border: none;\n",
              "    border-radius: 50%;\n",
              "    cursor: pointer;\n",
              "    display: none;\n",
              "    fill: var(--fill-color);\n",
              "    height: 32px;\n",
              "    padding: 0;\n",
              "    width: 32px;\n",
              "  }\n",
              "\n",
              "  .colab-df-quickchart:hover {\n",
              "    background-color: var(--hover-bg-color);\n",
              "    box-shadow: 0 1px 2px rgba(60, 64, 67, 0.3), 0 1px 3px 1px rgba(60, 64, 67, 0.15);\n",
              "    fill: var(--button-hover-fill-color);\n",
              "  }\n",
              "\n",
              "  .colab-df-quickchart-complete:disabled,\n",
              "  .colab-df-quickchart-complete:disabled:hover {\n",
              "    background-color: var(--disabled-bg-color);\n",
              "    fill: var(--disabled-fill-color);\n",
              "    box-shadow: none;\n",
              "  }\n",
              "\n",
              "  .colab-df-spinner {\n",
              "    border: 2px solid var(--fill-color);\n",
              "    border-color: transparent;\n",
              "    border-bottom-color: var(--fill-color);\n",
              "    animation:\n",
              "      spin 1s steps(1) infinite;\n",
              "  }\n",
              "\n",
              "  @keyframes spin {\n",
              "    0% {\n",
              "      border-color: transparent;\n",
              "      border-bottom-color: var(--fill-color);\n",
              "      border-left-color: var(--fill-color);\n",
              "    }\n",
              "    20% {\n",
              "      border-color: transparent;\n",
              "      border-left-color: var(--fill-color);\n",
              "      border-top-color: var(--fill-color);\n",
              "    }\n",
              "    30% {\n",
              "      border-color: transparent;\n",
              "      border-left-color: var(--fill-color);\n",
              "      border-top-color: var(--fill-color);\n",
              "      border-right-color: var(--fill-color);\n",
              "    }\n",
              "    40% {\n",
              "      border-color: transparent;\n",
              "      border-right-color: var(--fill-color);\n",
              "      border-top-color: var(--fill-color);\n",
              "    }\n",
              "    60% {\n",
              "      border-color: transparent;\n",
              "      border-right-color: var(--fill-color);\n",
              "    }\n",
              "    80% {\n",
              "      border-color: transparent;\n",
              "      border-right-color: var(--fill-color);\n",
              "      border-bottom-color: var(--fill-color);\n",
              "    }\n",
              "    90% {\n",
              "      border-color: transparent;\n",
              "      border-bottom-color: var(--fill-color);\n",
              "    }\n",
              "  }\n",
              "</style>\n",
              "\n",
              "  <script>\n",
              "    async function quickchart(key) {\n",
              "      const quickchartButtonEl =\n",
              "        document.querySelector('#' + key + ' button');\n",
              "      quickchartButtonEl.disabled = true;  // To prevent multiple clicks.\n",
              "      quickchartButtonEl.classList.add('colab-df-spinner');\n",
              "      try {\n",
              "        const charts = await google.colab.kernel.invokeFunction(\n",
              "            'suggestCharts', [key], {});\n",
              "      } catch (error) {\n",
              "        console.error('Error during call to suggestCharts:', error);\n",
              "      }\n",
              "      quickchartButtonEl.classList.remove('colab-df-spinner');\n",
              "      quickchartButtonEl.classList.add('colab-df-quickchart-complete');\n",
              "    }\n",
              "    (() => {\n",
              "      let quickchartButtonEl =\n",
              "        document.querySelector('#df-f13321de-7fae-41f1-9f5a-a089571d6a97 button');\n",
              "      quickchartButtonEl.style.display =\n",
              "        google.colab.kernel.accessAllowed ? 'block' : 'none';\n",
              "    })();\n",
              "  </script>\n",
              "</div>\n",
              "    </div>\n",
              "  </div>\n"
            ]
          },
          "metadata": {},
          "execution_count": 13
        }
      ]
    }
  ]
}