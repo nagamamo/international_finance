{
  "nbformat": 4,
  "nbformat_minor": 0,
  "metadata": {
    "colab": {
      "provenance": [],
      "authorship_tag": "ABX9TyNRmuUvntbm66guKpQIWLWi",
      "include_colab_link": true
    },
    "kernelspec": {
      "name": "python3",
      "display_name": "Python 3"
    },
    "language_info": {
      "name": "python"
    }
  },
  "cells": [
    {
      "cell_type": "markdown",
      "metadata": {
        "id": "view-in-github",
        "colab_type": "text"
      },
      "source": [
        "<a href=\"https://colab.research.google.com/github/nagamamo/international_finance/blob/main/10_timeseries_analysis_and_exchange_rate_model.ipynb\" target=\"_parent\"><img src=\"https://colab.research.google.com/assets/colab-badge.svg\" alt=\"Open In Colab\"/></a>"
      ]
    },
    {
      "cell_type": "markdown",
      "source": [
        "9　Prophetを用いた為替レートの予測"
      ],
      "metadata": {
        "id": "TsamR5VMn20A"
      }
    },
    {
      "cell_type": "markdown",
      "source": [
        "9.1　Prophetによる為替レートの予測\n",
        "\n",
        "　以下では、Prophetを用いた為替レートの予測例を紹介します。ライブラリは、まず数値計算用のpandas、データ取得を目的とするpandas datareader、標本期間を指定するためのdatetime、時系列モデルにベイズ統計を用いるためのstan、そして時系列モデル用のprophet、最後に図表用のライブラリであるmatplotlibを読み込みます。Prophetではベイズ統計を用いることで、新たな情報（データ）が加わる度に、予測時の確率分布を変化させます。"
      ],
      "metadata": {
        "id": "BcgvMgufUHXh"
      }
    },
    {
      "cell_type": "code",
      "source": [
        "#[1]ライブラリ読み込み\n",
        "import pandas as pd\n",
        "import pandas_datareader as data\n",
        "import datetime\n",
        "from prophet import Prophet #時系列モデル用ライブラリ\n",
        "import matplotlib.pyplot as plt"
      ],
      "metadata": {
        "id": "yNUgZ86HoRc4"
      },
      "execution_count": 1,
      "outputs": []
    },
    {
      "cell_type": "markdown",
      "source": [
        "9.2　為替レート日次データの取得\n",
        "\n",
        "　続いて為替レートのヒストリカル・データを取得します。今回はpandas_datareaderを用いる際に（）内に直接証券コードを書き込むため、冒頭にティッカーコードは指定しません。"
      ],
      "metadata": {
        "id": "Bdopsm5m77jr"
      }
    },
    {
      "cell_type": "code",
      "source": [
        "#[2]データ取得\n",
        "tickers=['DEXJPUS']#為替レートを米セントルイス連銀から取得\n",
        "start=datetime.date(1973,1,1)#標本期間を2019年1月1日から\n",
        "end=datetime.date(2023,12,31)#2023年12月31日までに指定\n",
        "USDJPY=data.DataReader(tickers,'fred',start=start,end=end)#データの取得\n",
        "USDJPY.head()"
      ],
      "metadata": {
        "id": "9FVu9uL5wIr1"
      },
      "execution_count": null,
      "outputs": []
    },
    {
      "cell_type": "markdown",
      "source": [
        "9.3　変数名のリセットと再定義\n",
        "\n",
        "　　Prophetでは変数名を日時＝'ds'、予測する変数＝'y'に指定されています。このため一度、データフレームのインデックス名を一度リセットして日時をdsへ、予測したい変数をｙへ変数名を変更します。"
      ],
      "metadata": {
        "id": "Thrav6W58GJe"
      }
    },
    {
      "cell_type": "code",
      "source": [
        "#[3]データフレームの整理\n",
        "USDJPY.reset_index(inplace=True) #prophetの変数定義への変更するためリセット\n",
        "USDJPY = USDJPY.rename(columns={'DATE': 'ds','DEXJPUS': 'y'}) #prophetの変数定義への変更"
      ],
      "metadata": {
        "id": "jj42FjuQp31g"
      },
      "execution_count": 6,
      "outputs": []
    },
    {
      "cell_type": "markdown",
      "source": [
        "9.4　2024年12月29日のドル円レート予測\n",
        "\n",
        "　最後のセルでは、一行目で時系列モデルにProphetを使用する指示を与えます。二行目においてヒストリカル・データをフィッティングし、三行目で予測期間を指定します。これらを実施した後、予測結果を保存し、可視化します。"
      ],
      "metadata": {
        "id": "LMPA_jS-8RFt"
      }
    },
    {
      "cell_type": "code",
      "source": [
        "#[4]2024年12月29日のドル円レートの予測\n",
        "model = Prophet() #時系列モデルにprophetを採用：モデル名をmodel\n",
        "model.fit(USDJPY) #データを時系列モデルにフィッティング\n",
        "future = model.make_future_dataframe(periods=414,freq=\"d\") #予測の期間と頻度の定義\n",
        "forecast = model.predict(future)#予測結果の保存\n",
        "model.plot(forecast)#可視化\n",
        "plt.show()"
      ],
      "metadata": {
        "id": "r4vLqrC0p5yS"
      },
      "execution_count": null,
      "outputs": []
    },
    {
      "cell_type": "markdown",
      "source": [
        "9.5　予測結果の確認\n",
        "\n",
        "尚、予測結果の各データは下記により取得、保存できます。"
      ],
      "metadata": {
        "id": "fuLuG6Xb8sX8"
      }
    },
    {
      "cell_type": "code",
      "source": [
        "#[5]予測結果のデータ確認\n",
        "pd.set_option(\"display.max_rows\", len(forecast))\n",
        "forecast"
      ],
      "metadata": {
        "id": "PilxxuBuqHBR"
      },
      "execution_count": null,
      "outputs": []
    }
  ]
}